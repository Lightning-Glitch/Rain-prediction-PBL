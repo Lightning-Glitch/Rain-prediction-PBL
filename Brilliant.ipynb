{
 "cells": [
  {
   "cell_type": "code",
   "execution_count": 43,
   "id": "a1398f4d-5b7b-468c-a6aa-2de9a526989d",
   "metadata": {},
   "outputs": [],
   "source": [
    "import pandas as pd\n",
    "import numpy as np\n",
    "import matplotlib.pyplot as plt\n",
    "from sklearn.model_selection import train_test_split\n",
    "from sklearn.ensemble import RandomForestClassifier\n",
    "import seaborn as sns\n",
    "from sklearn.metrics import accuracy_score,classification_report\n",
    "from xgboost import XGBClassifier\n",
    "from sklearn import metrics\n"
   ]
  },
  {
   "cell_type": "code",
   "execution_count": 44,
   "id": "8fc10c80-0fb3-4059-8fbc-98b332ed703c",
   "metadata": {},
   "outputs": [
    {
     "data": {
      "text/html": [
       "<div>\n",
       "<style scoped>\n",
       "    .dataframe tbody tr th:only-of-type {\n",
       "        vertical-align: middle;\n",
       "    }\n",
       "\n",
       "    .dataframe tbody tr th {\n",
       "        vertical-align: top;\n",
       "    }\n",
       "\n",
       "    .dataframe thead th {\n",
       "        text-align: right;\n",
       "    }\n",
       "</style>\n",
       "<table border=\"1\" class=\"dataframe\">\n",
       "  <thead>\n",
       "    <tr style=\"text-align: right;\">\n",
       "      <th></th>\n",
       "      <th>Date</th>\n",
       "      <th>maxtempC</th>\n",
       "      <th>mintempC</th>\n",
       "      <th>DewPointC</th>\n",
       "      <th>cloudcover</th>\n",
       "      <th>humidity</th>\n",
       "      <th>pressure</th>\n",
       "      <th>visibility</th>\n",
       "      <th>windspeedKmph</th>\n",
       "      <th>precipMM</th>\n",
       "      <th>RainToday</th>\n",
       "      <th>RainNextday</th>\n",
       "    </tr>\n",
       "  </thead>\n",
       "  <tbody>\n",
       "    <tr>\n",
       "      <th>0</th>\n",
       "      <td>1/1/2009</td>\n",
       "      <td>31</td>\n",
       "      <td>13</td>\n",
       "      <td>7.166667</td>\n",
       "      <td>0.625000</td>\n",
       "      <td>37.125000</td>\n",
       "      <td>1012.875000</td>\n",
       "      <td>10.0</td>\n",
       "      <td>4.500000</td>\n",
       "      <td>0.0</td>\n",
       "      <td>0</td>\n",
       "      <td>0</td>\n",
       "    </tr>\n",
       "    <tr>\n",
       "      <th>1</th>\n",
       "      <td>1/2/2009</td>\n",
       "      <td>30</td>\n",
       "      <td>15</td>\n",
       "      <td>9.250000</td>\n",
       "      <td>3.833333</td>\n",
       "      <td>45.000000</td>\n",
       "      <td>1013.625000</td>\n",
       "      <td>10.0</td>\n",
       "      <td>5.458333</td>\n",
       "      <td>0.0</td>\n",
       "      <td>0</td>\n",
       "      <td>0</td>\n",
       "    </tr>\n",
       "    <tr>\n",
       "      <th>2</th>\n",
       "      <td>1/3/2009</td>\n",
       "      <td>30</td>\n",
       "      <td>15</td>\n",
       "      <td>10.208333</td>\n",
       "      <td>4.041667</td>\n",
       "      <td>48.625000</td>\n",
       "      <td>1014.833333</td>\n",
       "      <td>10.0</td>\n",
       "      <td>3.750000</td>\n",
       "      <td>0.0</td>\n",
       "      <td>0</td>\n",
       "      <td>0</td>\n",
       "    </tr>\n",
       "    <tr>\n",
       "      <th>3</th>\n",
       "      <td>1/4/2009</td>\n",
       "      <td>31</td>\n",
       "      <td>14</td>\n",
       "      <td>11.250000</td>\n",
       "      <td>5.291667</td>\n",
       "      <td>51.875000</td>\n",
       "      <td>1013.625000</td>\n",
       "      <td>10.0</td>\n",
       "      <td>2.583333</td>\n",
       "      <td>0.0</td>\n",
       "      <td>0</td>\n",
       "      <td>0</td>\n",
       "    </tr>\n",
       "    <tr>\n",
       "      <th>4</th>\n",
       "      <td>1/5/2009</td>\n",
       "      <td>30</td>\n",
       "      <td>15</td>\n",
       "      <td>11.208333</td>\n",
       "      <td>8.416667</td>\n",
       "      <td>51.208333</td>\n",
       "      <td>1011.750000</td>\n",
       "      <td>10.0</td>\n",
       "      <td>4.791667</td>\n",
       "      <td>0.0</td>\n",
       "      <td>0</td>\n",
       "      <td>0</td>\n",
       "    </tr>\n",
       "  </tbody>\n",
       "</table>\n",
       "</div>"
      ],
      "text/plain": [
       "       Date  maxtempC  mintempC  DewPointC  cloudcover   humidity  \\\n",
       "0  1/1/2009        31        13   7.166667    0.625000  37.125000   \n",
       "1  1/2/2009        30        15   9.250000    3.833333  45.000000   \n",
       "2  1/3/2009        30        15  10.208333    4.041667  48.625000   \n",
       "3  1/4/2009        31        14  11.250000    5.291667  51.875000   \n",
       "4  1/5/2009        30        15  11.208333    8.416667  51.208333   \n",
       "\n",
       "      pressure  visibility  windspeedKmph  precipMM  RainToday  RainNextday  \n",
       "0  1012.875000        10.0       4.500000       0.0          0            0  \n",
       "1  1013.625000        10.0       5.458333       0.0          0            0  \n",
       "2  1014.833333        10.0       3.750000       0.0          0            0  \n",
       "3  1013.625000        10.0       2.583333       0.0          0            0  \n",
       "4  1011.750000        10.0       4.791667       0.0          0            0  "
      ]
     },
     "execution_count": 44,
     "metadata": {},
     "output_type": "execute_result"
    }
   ],
   "source": [
    "df = pd.read_csv('Rainfall_Pune(2009-2019).csv')\n",
    "df.head()"
   ]
  },
  {
   "cell_type": "code",
   "execution_count": 45,
   "id": "16bba15f-6a93-402b-a9e2-f016b9660bcb",
   "metadata": {},
   "outputs": [
    {
     "name": "stdout",
     "output_type": "stream",
     "text": [
      "<class 'pandas.core.frame.DataFrame'>\n",
      "RangeIndex: 4018 entries, 0 to 4017\n",
      "Data columns (total 12 columns):\n",
      " #   Column         Non-Null Count  Dtype  \n",
      "---  ------         --------------  -----  \n",
      " 0   Date           4018 non-null   object \n",
      " 1   maxtempC       4018 non-null   int64  \n",
      " 2   mintempC       4018 non-null   int64  \n",
      " 3   DewPointC      4018 non-null   float64\n",
      " 4   cloudcover     4018 non-null   float64\n",
      " 5   humidity       4018 non-null   float64\n",
      " 6   pressure       4018 non-null   float64\n",
      " 7   visibility     4018 non-null   float64\n",
      " 8   windspeedKmph  4018 non-null   float64\n",
      " 9   precipMM       4018 non-null   float64\n",
      " 10  RainToday      4018 non-null   int64  \n",
      " 11  RainNextday    4018 non-null   int64  \n",
      "dtypes: float64(7), int64(4), object(1)\n",
      "memory usage: 376.8+ KB\n"
     ]
    }
   ],
   "source": [
    "df.info()"
   ]
  },
  {
   "cell_type": "code",
   "execution_count": 117,
   "id": "fa1ba716-5f7d-44d1-b4aa-43946239ff61",
   "metadata": {},
   "outputs": [],
   "source": [
    "vis_input  = df['visibility']\n",
    "min_visibility = 0\n",
    "max_visibility = 10\n",
    "min_light_intensity = 1\n",
    "max_light_intensity = 65535\n",
    "scaling_factor = (max_light_intensity-min_light_intensity)/(max_visibility-min_visibility)\n",
    "def visbilitytolight(vis_input):\n",
    "    \n",
    "    light_intensity = (vis_input - min_visibility) * scaling_factor + min_light_intensity\n",
    "    return light_intensity\n",
    "\n",
    "df['light_intensity'] = df['visibility'].apply(lambda x: visbilitytolight(x))\n",
    "max_light_intensity_scaled = 2000\n",
    "df['light_intensity'] = df['light_intensity'] / max_light_intensity * max_light_intensity_scaled\n",
    "    "
   ]
  },
  {
   "cell_type": "code",
   "execution_count": 118,
   "id": "3ab9e600-2afc-4244-84d2-1228858fb50d",
   "metadata": {},
   "outputs": [
    {
     "data": {
      "text/plain": [
       "count    4018.000000\n",
       "mean     1896.685250\n",
       "std       259.573085\n",
       "min       200.027466\n",
       "25%      1908.334732\n",
       "50%      2000.000000\n",
       "75%      2000.000000\n",
       "max      3999.969482\n",
       "Name: light_intensity, dtype: float64"
      ]
     },
     "execution_count": 118,
     "metadata": {},
     "output_type": "execute_result"
    }
   ],
   "source": [
    "df['light_intensity'].describe()"
   ]
  },
  {
   "cell_type": "code",
   "execution_count": 48,
   "id": "4fb87e48-455a-42a2-8f12-3017c072049a",
   "metadata": {},
   "outputs": [],
   "source": [
    "df['Date']  = pd.to_datetime(df['Date'])"
   ]
  },
  {
   "cell_type": "code",
   "execution_count": 119,
   "id": "550462ca-797a-4d10-aa60-601cd65d675c",
   "metadata": {},
   "outputs": [
    {
     "data": {
      "text/html": [
       "<div>\n",
       "<style scoped>\n",
       "    .dataframe tbody tr th:only-of-type {\n",
       "        vertical-align: middle;\n",
       "    }\n",
       "\n",
       "    .dataframe tbody tr th {\n",
       "        vertical-align: top;\n",
       "    }\n",
       "\n",
       "    .dataframe thead th {\n",
       "        text-align: right;\n",
       "    }\n",
       "</style>\n",
       "<table border=\"1\" class=\"dataframe\">\n",
       "  <thead>\n",
       "    <tr style=\"text-align: right;\">\n",
       "      <th></th>\n",
       "      <th>Date</th>\n",
       "      <th>maxtempC</th>\n",
       "      <th>mintempC</th>\n",
       "      <th>DewPointC</th>\n",
       "      <th>cloudcover</th>\n",
       "      <th>humidity</th>\n",
       "      <th>pressure</th>\n",
       "      <th>visibility</th>\n",
       "      <th>windspeedKmph</th>\n",
       "      <th>precipMM</th>\n",
       "      <th>RainToday</th>\n",
       "      <th>RainNextday</th>\n",
       "      <th>light_intensity</th>\n",
       "      <th>tempC</th>\n",
       "    </tr>\n",
       "  </thead>\n",
       "  <tbody>\n",
       "    <tr>\n",
       "      <th>0</th>\n",
       "      <td>2009-01-01</td>\n",
       "      <td>31</td>\n",
       "      <td>13</td>\n",
       "      <td>7.166667</td>\n",
       "      <td>0.625000</td>\n",
       "      <td>37.125000</td>\n",
       "      <td>1012.875000</td>\n",
       "      <td>10.000000</td>\n",
       "      <td>4.500000</td>\n",
       "      <td>0.000000</td>\n",
       "      <td>0</td>\n",
       "      <td>0</td>\n",
       "      <td>2000.000000</td>\n",
       "      <td>22.0</td>\n",
       "    </tr>\n",
       "    <tr>\n",
       "      <th>1</th>\n",
       "      <td>2009-01-02</td>\n",
       "      <td>30</td>\n",
       "      <td>15</td>\n",
       "      <td>9.250000</td>\n",
       "      <td>3.833333</td>\n",
       "      <td>45.000000</td>\n",
       "      <td>1013.625000</td>\n",
       "      <td>10.000000</td>\n",
       "      <td>5.458333</td>\n",
       "      <td>0.000000</td>\n",
       "      <td>0</td>\n",
       "      <td>0</td>\n",
       "      <td>2000.000000</td>\n",
       "      <td>22.5</td>\n",
       "    </tr>\n",
       "    <tr>\n",
       "      <th>2</th>\n",
       "      <td>2009-01-03</td>\n",
       "      <td>30</td>\n",
       "      <td>15</td>\n",
       "      <td>10.208333</td>\n",
       "      <td>4.041667</td>\n",
       "      <td>48.625000</td>\n",
       "      <td>1014.833333</td>\n",
       "      <td>10.000000</td>\n",
       "      <td>3.750000</td>\n",
       "      <td>0.000000</td>\n",
       "      <td>0</td>\n",
       "      <td>0</td>\n",
       "      <td>2000.000000</td>\n",
       "      <td>22.5</td>\n",
       "    </tr>\n",
       "    <tr>\n",
       "      <th>3</th>\n",
       "      <td>2009-01-04</td>\n",
       "      <td>31</td>\n",
       "      <td>14</td>\n",
       "      <td>11.250000</td>\n",
       "      <td>5.291667</td>\n",
       "      <td>51.875000</td>\n",
       "      <td>1013.625000</td>\n",
       "      <td>10.000000</td>\n",
       "      <td>2.583333</td>\n",
       "      <td>0.000000</td>\n",
       "      <td>0</td>\n",
       "      <td>0</td>\n",
       "      <td>2000.000000</td>\n",
       "      <td>22.5</td>\n",
       "    </tr>\n",
       "    <tr>\n",
       "      <th>4</th>\n",
       "      <td>2009-01-05</td>\n",
       "      <td>30</td>\n",
       "      <td>15</td>\n",
       "      <td>11.208333</td>\n",
       "      <td>8.416667</td>\n",
       "      <td>51.208333</td>\n",
       "      <td>1011.750000</td>\n",
       "      <td>10.000000</td>\n",
       "      <td>4.791667</td>\n",
       "      <td>0.000000</td>\n",
       "      <td>0</td>\n",
       "      <td>0</td>\n",
       "      <td>2000.000000</td>\n",
       "      <td>22.5</td>\n",
       "    </tr>\n",
       "    <tr>\n",
       "      <th>...</th>\n",
       "      <td>...</td>\n",
       "      <td>...</td>\n",
       "      <td>...</td>\n",
       "      <td>...</td>\n",
       "      <td>...</td>\n",
       "      <td>...</td>\n",
       "      <td>...</td>\n",
       "      <td>...</td>\n",
       "      <td>...</td>\n",
       "      <td>...</td>\n",
       "      <td>...</td>\n",
       "      <td>...</td>\n",
       "      <td>...</td>\n",
       "      <td>...</td>\n",
       "    </tr>\n",
       "    <tr>\n",
       "      <th>4013</th>\n",
       "      <td>2019-12-28</td>\n",
       "      <td>26</td>\n",
       "      <td>18</td>\n",
       "      <td>15.750000</td>\n",
       "      <td>35.541667</td>\n",
       "      <td>71.958333</td>\n",
       "      <td>1012.250000</td>\n",
       "      <td>10.000000</td>\n",
       "      <td>11.708333</td>\n",
       "      <td>0.000000</td>\n",
       "      <td>0</td>\n",
       "      <td>1</td>\n",
       "      <td>2000.000000</td>\n",
       "      <td>22.0</td>\n",
       "    </tr>\n",
       "    <tr>\n",
       "      <th>4014</th>\n",
       "      <td>2019-12-29</td>\n",
       "      <td>28</td>\n",
       "      <td>17</td>\n",
       "      <td>15.125000</td>\n",
       "      <td>47.833333</td>\n",
       "      <td>65.291667</td>\n",
       "      <td>1012.958333</td>\n",
       "      <td>9.916667</td>\n",
       "      <td>7.125000</td>\n",
       "      <td>0.016667</td>\n",
       "      <td>1</td>\n",
       "      <td>0</td>\n",
       "      <td>1983.333588</td>\n",
       "      <td>22.5</td>\n",
       "    </tr>\n",
       "    <tr>\n",
       "      <th>4015</th>\n",
       "      <td>2019-12-30</td>\n",
       "      <td>29</td>\n",
       "      <td>18</td>\n",
       "      <td>15.833333</td>\n",
       "      <td>6.541667</td>\n",
       "      <td>68.250000</td>\n",
       "      <td>1012.083333</td>\n",
       "      <td>10.000000</td>\n",
       "      <td>8.166667</td>\n",
       "      <td>0.000000</td>\n",
       "      <td>0</td>\n",
       "      <td>0</td>\n",
       "      <td>2000.000000</td>\n",
       "      <td>23.5</td>\n",
       "    </tr>\n",
       "    <tr>\n",
       "      <th>4016</th>\n",
       "      <td>2019-12-31</td>\n",
       "      <td>29</td>\n",
       "      <td>18</td>\n",
       "      <td>11.666667</td>\n",
       "      <td>2.125000</td>\n",
       "      <td>57.583333</td>\n",
       "      <td>1013.166667</td>\n",
       "      <td>10.000000</td>\n",
       "      <td>7.791667</td>\n",
       "      <td>0.000000</td>\n",
       "      <td>0</td>\n",
       "      <td>0</td>\n",
       "      <td>2000.000000</td>\n",
       "      <td>23.5</td>\n",
       "    </tr>\n",
       "    <tr>\n",
       "      <th>4017</th>\n",
       "      <td>2020-01-01</td>\n",
       "      <td>29</td>\n",
       "      <td>18</td>\n",
       "      <td>9.958333</td>\n",
       "      <td>3.500000</td>\n",
       "      <td>47.208333</td>\n",
       "      <td>1013.583333</td>\n",
       "      <td>10.000000</td>\n",
       "      <td>8.791667</td>\n",
       "      <td>0.000000</td>\n",
       "      <td>0</td>\n",
       "      <td>0</td>\n",
       "      <td>2000.000000</td>\n",
       "      <td>23.5</td>\n",
       "    </tr>\n",
       "  </tbody>\n",
       "</table>\n",
       "<p>4018 rows × 14 columns</p>\n",
       "</div>"
      ],
      "text/plain": [
       "           Date  maxtempC  mintempC  DewPointC  cloudcover   humidity  \\\n",
       "0    2009-01-01        31        13   7.166667    0.625000  37.125000   \n",
       "1    2009-01-02        30        15   9.250000    3.833333  45.000000   \n",
       "2    2009-01-03        30        15  10.208333    4.041667  48.625000   \n",
       "3    2009-01-04        31        14  11.250000    5.291667  51.875000   \n",
       "4    2009-01-05        30        15  11.208333    8.416667  51.208333   \n",
       "...         ...       ...       ...        ...         ...        ...   \n",
       "4013 2019-12-28        26        18  15.750000   35.541667  71.958333   \n",
       "4014 2019-12-29        28        17  15.125000   47.833333  65.291667   \n",
       "4015 2019-12-30        29        18  15.833333    6.541667  68.250000   \n",
       "4016 2019-12-31        29        18  11.666667    2.125000  57.583333   \n",
       "4017 2020-01-01        29        18   9.958333    3.500000  47.208333   \n",
       "\n",
       "         pressure  visibility  windspeedKmph  precipMM  RainToday  \\\n",
       "0     1012.875000   10.000000       4.500000  0.000000          0   \n",
       "1     1013.625000   10.000000       5.458333  0.000000          0   \n",
       "2     1014.833333   10.000000       3.750000  0.000000          0   \n",
       "3     1013.625000   10.000000       2.583333  0.000000          0   \n",
       "4     1011.750000   10.000000       4.791667  0.000000          0   \n",
       "...           ...         ...            ...       ...        ...   \n",
       "4013  1012.250000   10.000000      11.708333  0.000000          0   \n",
       "4014  1012.958333    9.916667       7.125000  0.016667          1   \n",
       "4015  1012.083333   10.000000       8.166667  0.000000          0   \n",
       "4016  1013.166667   10.000000       7.791667  0.000000          0   \n",
       "4017  1013.583333   10.000000       8.791667  0.000000          0   \n",
       "\n",
       "      RainNextday  light_intensity  tempC  \n",
       "0               0      2000.000000   22.0  \n",
       "1               0      2000.000000   22.5  \n",
       "2               0      2000.000000   22.5  \n",
       "3               0      2000.000000   22.5  \n",
       "4               0      2000.000000   22.5  \n",
       "...           ...              ...    ...  \n",
       "4013            1      2000.000000   22.0  \n",
       "4014            0      1983.333588   22.5  \n",
       "4015            0      2000.000000   23.5  \n",
       "4016            0      2000.000000   23.5  \n",
       "4017            0      2000.000000   23.5  \n",
       "\n",
       "[4018 rows x 14 columns]"
      ]
     },
     "execution_count": 119,
     "metadata": {},
     "output_type": "execute_result"
    }
   ],
   "source": [
    "df"
   ]
  },
  {
   "cell_type": "code",
   "execution_count": null,
   "id": "27608a9b-2849-408a-98c1-05a60bdc8219",
   "metadata": {},
   "outputs": [],
   "source": []
  },
  {
   "cell_type": "code",
   "execution_count": 120,
   "id": "88608bc7-e3ef-4443-8b9a-886daf32d776",
   "metadata": {},
   "outputs": [
    {
     "name": "stderr",
     "output_type": "stream",
     "text": [
      "C:\\Users\\ADMIN\\anaconda3\\Lib\\site-packages\\seaborn\\_oldcore.py:1119: FutureWarning: use_inf_as_na option is deprecated and will be removed in a future version. Convert inf values to NaN before operating instead.\n",
      "  with pd.option_context('mode.use_inf_as_na', True):\n",
      "C:\\Users\\ADMIN\\anaconda3\\Lib\\site-packages\\seaborn\\_oldcore.py:1119: FutureWarning: use_inf_as_na option is deprecated and will be removed in a future version. Convert inf values to NaN before operating instead.\n",
      "  with pd.option_context('mode.use_inf_as_na', True):\n",
      "C:\\Users\\ADMIN\\anaconda3\\Lib\\site-packages\\seaborn\\_oldcore.py:1119: FutureWarning: use_inf_as_na option is deprecated and will be removed in a future version. Convert inf values to NaN before operating instead.\n",
      "  with pd.option_context('mode.use_inf_as_na', True):\n",
      "C:\\Users\\ADMIN\\anaconda3\\Lib\\site-packages\\seaborn\\_oldcore.py:1119: FutureWarning: use_inf_as_na option is deprecated and will be removed in a future version. Convert inf values to NaN before operating instead.\n",
      "  with pd.option_context('mode.use_inf_as_na', True):\n",
      "C:\\Users\\ADMIN\\anaconda3\\Lib\\site-packages\\seaborn\\_oldcore.py:1119: FutureWarning: use_inf_as_na option is deprecated and will be removed in a future version. Convert inf values to NaN before operating instead.\n",
      "  with pd.option_context('mode.use_inf_as_na', True):\n",
      "C:\\Users\\ADMIN\\anaconda3\\Lib\\site-packages\\seaborn\\_oldcore.py:1119: FutureWarning: use_inf_as_na option is deprecated and will be removed in a future version. Convert inf values to NaN before operating instead.\n",
      "  with pd.option_context('mode.use_inf_as_na', True):\n",
      "C:\\Users\\ADMIN\\anaconda3\\Lib\\site-packages\\seaborn\\_oldcore.py:1119: FutureWarning: use_inf_as_na option is deprecated and will be removed in a future version. Convert inf values to NaN before operating instead.\n",
      "  with pd.option_context('mode.use_inf_as_na', True):\n"
     ]
    },
    {
     "data": {
      "image/png": "[encoded data removed]",
      "text/plain": [
       "<Figure size 1200x1000 with 7 Axes>"
      ]
     },
     "metadata": {},
     "output_type": "display_data"
    }
   ],
   "source": [
    "plt.figure(figsize=(12, 10))\n",
    "for i, column in enumerate(data.columns):\n",
    "    plt.subplot(3, 4, i+1)\n",
    "    sns.histplot(data[column], kde=True)\n",
    "    plt.title(column)\n",
    "plt.tight_layout()\n",
    "plt.show()"
   ]
  },
  {
   "cell_type": "code",
   "execution_count": 87,
   "id": "31d07c96-59a1-41d3-a030-aa9d830f9b34",
   "metadata": {},
   "outputs": [
    {
     "data": {
      "text/plain": [
       "Date               0\n",
       "humidity           0\n",
       "pressure           0\n",
       "RainToday          0\n",
       "RainNextday        0\n",
       "light_intensity    0\n",
       "tempC              0\n",
       "dtype: int64"
      ]
     },
     "execution_count": 87,
     "metadata": {},
     "output_type": "execute_result"
    }
   ],
   "source": [
    "data.isnull().sum()"
   ]
  },
  {
   "cell_type": "code",
   "execution_count": null,
   "id": "a4fc7066-64ec-4346-85ad-26543f683994",
   "metadata": {},
   "outputs": [],
   "source": [
    "plt.figure(figsize=(12, 10))\n",
    "for i, column in enumerate(data.columns):\n",
    "    plt.subplot(3, 4, i+1)\n",
    "    if column != 'Date': \n",
    "        sns.scatterplot(data=data, x='RainToday', y=column)\n",
    "        plt.title(column)\n",
    "plt.tight_layout()\n",
    "plt.show()"
   ]
  },
  {
   "cell_type": "code",
   "execution_count": null,
   "id": "b13d6ec8-14c0-41f7-b9f5-3aa007998196",
   "metadata": {},
   "outputs": [],
   "source": [
    "sns.countplot(df['RainNextday'])\n"
   ]
  },
  {
   "cell_type": "code",
   "execution_count": null,
   "id": "4d8ef61f-b8db-4cce-85e8-d850c54f7e9d",
   "metadata": {},
   "outputs": [],
   "source": [
    "df.columns"
   ]
  },
  {
   "cell_type": "code",
   "execution_count": null,
   "id": "cc4be4d0-3f54-47ea-822b-61e1930f57bf",
   "metadata": {},
   "outputs": [],
   "source": []
  },
  {
   "cell_type": "code",
   "execution_count": 121,
   "id": "71b1473f-ebb5-4371-b218-cf494558e37c",
   "metadata": {},
   "outputs": [
    {
     "data": {
      "text/plain": [
       "Text(0.5, 1.0, 'Correlation heatmap')"
      ]
     },
     "execution_count": 121,
     "metadata": {},
     "output_type": "execute_result"
    },
    {
     "data": {
      "image/png": "[encoded data removed]",
      "text/plain": [
       "<Figure size 1200x1000 with 2 Axes>"
      ]
     },
     "metadata": {},
     "output_type": "display_data"
    }
   ],
   "source": [
    "temp = data.drop(columns=['Date'])\n",
    "co = temp.corr()\n",
    "plt.figure(figsize=(12,10))\n",
    "sns.heatmap(co,annot=True,cmap=\"coolwarm\",linewidths='0.5',fmt='0.3f', annot_kws={\"fontsize\": 8})\n",
    "plt.title(\"Correlation heatmap\")\n"
   ]
  },
  {
   "cell_type": "code",
   "execution_count": 123,
   "id": "96ead42f-bb55-408d-998e-bc7649591538",
   "metadata": {},
   "outputs": [
    {
     "data": {
      "text/html": [
       "<div>\n",
       "<style scoped>\n",
       "    .dataframe tbody tr th:only-of-type {\n",
       "        vertical-align: middle;\n",
       "    }\n",
       "\n",
       "    .dataframe tbody tr th {\n",
       "        vertical-align: top;\n",
       "    }\n",
       "\n",
       "    .dataframe thead th {\n",
       "        text-align: right;\n",
       "    }\n",
       "</style>\n",
       "<table border=\"1\" class=\"dataframe\">\n",
       "  <thead>\n",
       "    <tr style=\"text-align: right;\">\n",
       "      <th></th>\n",
       "      <th>humidity</th>\n",
       "      <th>pressure</th>\n",
       "      <th>RainToday</th>\n",
       "      <th>RainNextday</th>\n",
       "      <th>light_intensity</th>\n",
       "      <th>tempC</th>\n",
       "    </tr>\n",
       "  </thead>\n",
       "  <tbody>\n",
       "    <tr>\n",
       "      <th>humidity</th>\n",
       "      <td>1.000000</td>\n",
       "      <td>-0.592649</td>\n",
       "      <td>0.749593</td>\n",
       "      <td>0.717714</td>\n",
       "      <td>-0.577671</td>\n",
       "      <td>-0.366948</td>\n",
       "    </tr>\n",
       "    <tr>\n",
       "      <th>pressure</th>\n",
       "      <td>-0.592649</td>\n",
       "      <td>1.000000</td>\n",
       "      <td>-0.542491</td>\n",
       "      <td>-0.547469</td>\n",
       "      <td>0.329026</td>\n",
       "      <td>-0.225587</td>\n",
       "    </tr>\n",
       "    <tr>\n",
       "      <th>RainToday</th>\n",
       "      <td>0.749593</td>\n",
       "      <td>-0.542491</td>\n",
       "      <td>1.000000</td>\n",
       "      <td>0.738761</td>\n",
       "      <td>-0.462247</td>\n",
       "      <td>-0.155463</td>\n",
       "    </tr>\n",
       "    <tr>\n",
       "      <th>RainNextday</th>\n",
       "      <td>0.717714</td>\n",
       "      <td>-0.547469</td>\n",
       "      <td>0.738761</td>\n",
       "      <td>1.000000</td>\n",
       "      <td>-0.432964</td>\n",
       "      <td>-0.140241</td>\n",
       "    </tr>\n",
       "    <tr>\n",
       "      <th>light_intensity</th>\n",
       "      <td>-0.577671</td>\n",
       "      <td>0.329026</td>\n",
       "      <td>-0.462247</td>\n",
       "      <td>-0.432964</td>\n",
       "      <td>1.000000</td>\n",
       "      <td>0.270542</td>\n",
       "    </tr>\n",
       "    <tr>\n",
       "      <th>tempC</th>\n",
       "      <td>-0.366948</td>\n",
       "      <td>-0.225587</td>\n",
       "      <td>-0.155463</td>\n",
       "      <td>-0.140241</td>\n",
       "      <td>0.270542</td>\n",
       "      <td>1.000000</td>\n",
       "    </tr>\n",
       "  </tbody>\n",
       "</table>\n",
       "</div>"
      ],
      "text/plain": [
       "                 humidity  pressure  RainToday  RainNextday  light_intensity  \\\n",
       "humidity         1.000000 -0.592649   0.749593     0.717714        -0.577671   \n",
       "pressure        -0.592649  1.000000  -0.542491    -0.547469         0.329026   \n",
       "RainToday        0.749593 -0.542491   1.000000     0.738761        -0.462247   \n",
       "RainNextday      0.717714 -0.547469   0.738761     1.000000        -0.432964   \n",
       "light_intensity -0.577671  0.329026  -0.462247    -0.432964         1.000000   \n",
       "tempC           -0.366948 -0.225587  -0.155463    -0.140241         0.270542   \n",
       "\n",
       "                    tempC  \n",
       "humidity        -0.366948  \n",
       "pressure        -0.225587  \n",
       "RainToday       -0.155463  \n",
       "RainNextday     -0.140241  \n",
       "light_intensity  0.270542  \n",
       "tempC            1.000000  "
      ]
     },
     "execution_count": 123,
     "metadata": {},
     "output_type": "execute_result"
    }
   ],
   "source": [
    "temp.corr()"
   ]
  },
  {
   "cell_type": "code",
   "execution_count": 54,
   "id": "24f10470-79af-4e99-a7b3-352b973b920b",
   "metadata": {},
   "outputs": [],
   "source": [
    "mean_of_rows = df[['mintempC', 'maxtempC']].mean(axis=1)"
   ]
  },
  {
   "cell_type": "code",
   "execution_count": 55,
   "id": "9d62e0cf-925f-4a2f-af88-b11be3589b3b",
   "metadata": {},
   "outputs": [],
   "source": [
    "df['tempC'] = mean_of_rows"
   ]
  },
  {
   "cell_type": "code",
   "execution_count": 124,
   "id": "b38a7f0e-4a23-4d87-b27f-cda5bc64e71f",
   "metadata": {},
   "outputs": [
    {
     "data": {
      "text/plain": [
       "(4018, 14)"
      ]
     },
     "execution_count": 124,
     "metadata": {},
     "output_type": "execute_result"
    }
   ],
   "source": [
    "df.shape"
   ]
  },
  {
   "cell_type": "code",
   "execution_count": 125,
   "id": "6767a9bd-f64d-4437-8745-c2309f83f0f2",
   "metadata": {},
   "outputs": [],
   "source": [
    "data=df.drop(columns=['maxtempC','mintempC','DewPointC','cloudcover','precipMM','windspeedKmph','visibility'],axis=1)"
   ]
  },
  {
   "cell_type": "code",
   "execution_count": 126,
   "id": "ee12194d-d3fe-48cc-b2be-c99fd8e669ad",
   "metadata": {},
   "outputs": [
    {
     "data": {
      "text/html": [
       "<div>\n",
       "<style scoped>\n",
       "    .dataframe tbody tr th:only-of-type {\n",
       "        vertical-align: middle;\n",
       "    }\n",
       "\n",
       "    .dataframe tbody tr th {\n",
       "        vertical-align: top;\n",
       "    }\n",
       "\n",
       "    .dataframe thead th {\n",
       "        text-align: right;\n",
       "    }\n",
       "</style>\n",
       "<table border=\"1\" class=\"dataframe\">\n",
       "  <thead>\n",
       "    <tr style=\"text-align: right;\">\n",
       "      <th></th>\n",
       "      <th>Date</th>\n",
       "      <th>humidity</th>\n",
       "      <th>pressure</th>\n",
       "      <th>RainToday</th>\n",
       "      <th>RainNextday</th>\n",
       "      <th>light_intensity</th>\n",
       "      <th>tempC</th>\n",
       "    </tr>\n",
       "  </thead>\n",
       "  <tbody>\n",
       "    <tr>\n",
       "      <th>0</th>\n",
       "      <td>2009-01-01</td>\n",
       "      <td>37.125000</td>\n",
       "      <td>1012.875000</td>\n",
       "      <td>0</td>\n",
       "      <td>0</td>\n",
       "      <td>2000.000000</td>\n",
       "      <td>22.0</td>\n",
       "    </tr>\n",
       "    <tr>\n",
       "      <th>1</th>\n",
       "      <td>2009-01-02</td>\n",
       "      <td>45.000000</td>\n",
       "      <td>1013.625000</td>\n",
       "      <td>0</td>\n",
       "      <td>0</td>\n",
       "      <td>2000.000000</td>\n",
       "      <td>22.5</td>\n",
       "    </tr>\n",
       "    <tr>\n",
       "      <th>2</th>\n",
       "      <td>2009-01-03</td>\n",
       "      <td>48.625000</td>\n",
       "      <td>1014.833333</td>\n",
       "      <td>0</td>\n",
       "      <td>0</td>\n",
       "      <td>2000.000000</td>\n",
       "      <td>22.5</td>\n",
       "    </tr>\n",
       "    <tr>\n",
       "      <th>3</th>\n",
       "      <td>2009-01-04</td>\n",
       "      <td>51.875000</td>\n",
       "      <td>1013.625000</td>\n",
       "      <td>0</td>\n",
       "      <td>0</td>\n",
       "      <td>2000.000000</td>\n",
       "      <td>22.5</td>\n",
       "    </tr>\n",
       "    <tr>\n",
       "      <th>4</th>\n",
       "      <td>2009-01-05</td>\n",
       "      <td>51.208333</td>\n",
       "      <td>1011.750000</td>\n",
       "      <td>0</td>\n",
       "      <td>0</td>\n",
       "      <td>2000.000000</td>\n",
       "      <td>22.5</td>\n",
       "    </tr>\n",
       "    <tr>\n",
       "      <th>...</th>\n",
       "      <td>...</td>\n",
       "      <td>...</td>\n",
       "      <td>...</td>\n",
       "      <td>...</td>\n",
       "      <td>...</td>\n",
       "      <td>...</td>\n",
       "      <td>...</td>\n",
       "    </tr>\n",
       "    <tr>\n",
       "      <th>4013</th>\n",
       "      <td>2019-12-28</td>\n",
       "      <td>71.958333</td>\n",
       "      <td>1012.250000</td>\n",
       "      <td>0</td>\n",
       "      <td>1</td>\n",
       "      <td>2000.000000</td>\n",
       "      <td>22.0</td>\n",
       "    </tr>\n",
       "    <tr>\n",
       "      <th>4014</th>\n",
       "      <td>2019-12-29</td>\n",
       "      <td>65.291667</td>\n",
       "      <td>1012.958333</td>\n",
       "      <td>1</td>\n",
       "      <td>0</td>\n",
       "      <td>1983.333588</td>\n",
       "      <td>22.5</td>\n",
       "    </tr>\n",
       "    <tr>\n",
       "      <th>4015</th>\n",
       "      <td>2019-12-30</td>\n",
       "      <td>68.250000</td>\n",
       "      <td>1012.083333</td>\n",
       "      <td>0</td>\n",
       "      <td>0</td>\n",
       "      <td>2000.000000</td>\n",
       "      <td>23.5</td>\n",
       "    </tr>\n",
       "    <tr>\n",
       "      <th>4016</th>\n",
       "      <td>2019-12-31</td>\n",
       "      <td>57.583333</td>\n",
       "      <td>1013.166667</td>\n",
       "      <td>0</td>\n",
       "      <td>0</td>\n",
       "      <td>2000.000000</td>\n",
       "      <td>23.5</td>\n",
       "    </tr>\n",
       "    <tr>\n",
       "      <th>4017</th>\n",
       "      <td>2020-01-01</td>\n",
       "      <td>47.208333</td>\n",
       "      <td>1013.583333</td>\n",
       "      <td>0</td>\n",
       "      <td>0</td>\n",
       "      <td>2000.000000</td>\n",
       "      <td>23.5</td>\n",
       "    </tr>\n",
       "  </tbody>\n",
       "</table>\n",
       "<p>4018 rows × 7 columns</p>\n",
       "</div>"
      ],
      "text/plain": [
       "           Date   humidity     pressure  RainToday  RainNextday  \\\n",
       "0    2009-01-01  37.125000  1012.875000          0            0   \n",
       "1    2009-01-02  45.000000  1013.625000          0            0   \n",
       "2    2009-01-03  48.625000  1014.833333          0            0   \n",
       "3    2009-01-04  51.875000  1013.625000          0            0   \n",
       "4    2009-01-05  51.208333  1011.750000          0            0   \n",
       "...         ...        ...          ...        ...          ...   \n",
       "4013 2019-12-28  71.958333  1012.250000          0            1   \n",
       "4014 2019-12-29  65.291667  1012.958333          1            0   \n",
       "4015 2019-12-30  68.250000  1012.083333          0            0   \n",
       "4016 2019-12-31  57.583333  1013.166667          0            0   \n",
       "4017 2020-01-01  47.208333  1013.583333          0            0   \n",
       "\n",
       "      light_intensity  tempC  \n",
       "0         2000.000000   22.0  \n",
       "1         2000.000000   22.5  \n",
       "2         2000.000000   22.5  \n",
       "3         2000.000000   22.5  \n",
       "4         2000.000000   22.5  \n",
       "...               ...    ...  \n",
       "4013      2000.000000   22.0  \n",
       "4014      1983.333588   22.5  \n",
       "4015      2000.000000   23.5  \n",
       "4016      2000.000000   23.5  \n",
       "4017      2000.000000   23.5  \n",
       "\n",
       "[4018 rows x 7 columns]"
      ]
     },
     "execution_count": 126,
     "metadata": {},
     "output_type": "execute_result"
    }
   ],
   "source": [
    "data"
   ]
  },
  {
   "cell_type": "code",
   "execution_count": 110,
   "id": "aeb6c2e7-6df5-479d-84f2-47e5db2ff6b5",
   "metadata": {},
   "outputs": [],
   "source": [
    "x.to_csv('Input_SVC')"
   ]
  },
  {
   "cell_type": "code",
   "execution_count": null,
   "id": "411261f8-1332-4765-ad89-fa39ca81012a",
   "metadata": {},
   "outputs": [],
   "source": []
  },
  {
   "cell_type": "code",
   "execution_count": 103,
   "id": "ae76e7ed-d413-4b2b-9409-78eb4364fedd",
   "metadata": {},
   "outputs": [
    {
     "name": "stdout",
     "output_type": "stream",
     "text": [
      "(4018, 5)\n"
     ]
    }
   ],
   "source": [
    "print(x.shape)"
   ]
  },
  {
   "cell_type": "code",
   "execution_count": null,
   "id": "20eae2a9-4fe6-4059-8391-18c1ec603c57",
   "metadata": {},
   "outputs": [],
   "source": []
  },
  {
   "cell_type": "code",
   "execution_count": 127,
   "id": "c1a1654c-34da-472f-aa8b-6fc9615c45b8",
   "metadata": {},
   "outputs": [],
   "source": [
    "x = data.drop(['Date',\"RainNextday\"],axis=1)\n",
    "y = data[\"RainNextday\"]"
   ]
  },
  {
   "cell_type": "code",
   "execution_count": 128,
   "id": "51fa16ab-aa6c-49a8-8f45-71304592905b",
   "metadata": {},
   "outputs": [
    {
     "name": "stdout",
     "output_type": "stream",
     "text": [
      "      tempC   humidity     pressure  light_intensity  RainToday\n",
      "0      22.0  37.125000  1012.875000      2000.000000          0\n",
      "1      22.5  45.000000  1013.625000      2000.000000          0\n",
      "2      22.5  48.625000  1014.833333      2000.000000          0\n",
      "3      22.5  51.875000  1013.625000      2000.000000          0\n",
      "4      22.5  51.208333  1011.750000      2000.000000          0\n",
      "...     ...        ...          ...              ...        ...\n",
      "4013   22.0  71.958333  1012.250000      2000.000000          0\n",
      "4014   22.5  65.291667  1012.958333      1983.333588          1\n",
      "4015   23.5  68.250000  1012.083333      2000.000000          0\n",
      "4016   23.5  57.583333  1013.166667      2000.000000          0\n",
      "4017   23.5  47.208333  1013.583333      2000.000000          0\n",
      "\n",
      "[4018 rows x 5 columns]\n"
     ]
    }
   ],
   "source": [
    "\n",
    "x = x.reindex(columns=['tempC', 'humidity', 'pressure', 'light_intensity', 'RainToday'])\n",
    "print(x)"
   ]
  },
  {
   "cell_type": "code",
   "execution_count": 129,
   "id": "bbb16abb-2010-4457-87f2-63c0ecd59a5f",
   "metadata": {},
   "outputs": [
    {
     "name": "stdout",
     "output_type": "stream",
     "text": [
      "Index(['tempC', 'humidity', 'pressure', 'light_intensity', 'RainToday'], dtype='object')\n"
     ]
    }
   ],
   "source": [
    "print(x.columns)"
   ]
  },
  {
   "cell_type": "code",
   "execution_count": 130,
   "id": "cddbae33-84a6-4013-9757-a06f47ddeb8b",
   "metadata": {},
   "outputs": [
    {
     "name": "stdout",
     "output_type": "stream",
     "text": [
      "[[  22.           37.125      1012.875      2000.            0.        ]\n",
      " [  22.5          45.         1013.625      2000.            0.        ]\n",
      " [  22.5          48.625      1014.833333   2000.            0.        ]\n",
      " ...\n",
      " [  23.5          68.25       1012.083333   2000.            0.        ]\n",
      " [  23.5          57.58333333 1013.166667   2000.            0.        ]\n",
      " [  23.5          47.20833333 1013.583333   2000.            0.        ]]\n",
      "[0 0 0 ... 0 0 0]\n"
     ]
    }
   ],
   "source": [
    "print(np.array(x))\n",
    "print(np.array(y))"
   ]
  },
  {
   "cell_type": "code",
   "execution_count": 131,
   "id": "19af8617-a310-47de-a127-0f28b1eac3cb",
   "metadata": {},
   "outputs": [],
   "source": [
    "x_train,x_test,y_train,y_test = train_test_split(x,y,test_size=0.2,random_state=2)"
   ]
  },
  {
   "cell_type": "code",
   "execution_count": 132,
   "id": "91eb89f9-72dd-46ce-abab-60b02517cc1f",
   "metadata": {},
   "outputs": [],
   "source": [
    "from sklearn.preprocessing import StandardScaler\n",
    "\n",
    "scaler = StandardScaler()"
   ]
  },
  {
   "cell_type": "code",
   "execution_count": 133,
   "id": "8d1be70e-e7ef-48d6-a707-57f164698981",
   "metadata": {},
   "outputs": [
    {
     "name": "stdout",
     "output_type": "stream",
     "text": [
      "(4018, 5) (3214, 5) (804, 5)\n"
     ]
    }
   ],
   "source": [
    "print(x.shape,x_train.shape,x_test.shape)"
   ]
  },
  {
   "cell_type": "code",
   "execution_count": 134,
   "id": "e56e83d5-f716-466c-a695-b7cbf4ec3605",
   "metadata": {},
   "outputs": [
    {
     "data": {
      "text/html": [
       "<style>#sk-container-id-4 {color: black;background-color: white;}#sk-container-id-4 pre{padding: 0;}#sk-container-id-4 div.sk-toggleable {background-color: white;}#sk-container-id-4 label.sk-toggleable__label {cursor: pointer;display: block;width: 100%;margin-bottom: 0;padding: 0.3em;box-sizing: border-box;text-align: center;}#sk-container-id-4 label.sk-toggleable__label-arrow:before {content: \"▸\";float: left;margin-right: 0.25em;color: #696969;}#sk-container-id-4 label.sk-toggleable__label-arrow:hover:before {color: black;}#sk-container-id-4 div.sk-estimator:hover label.sk-toggleable__label-arrow:before {color: black;}#sk-container-id-4 div.sk-toggleable__content {max-height: 0;max-width: 0;overflow: hidden;text-align: left;background-color: #f0f8ff;}#sk-container-id-4 div.sk-toggleable__content pre {margin: 0.2em;color: black;border-radius: 0.25em;background-color: #f0f8ff;}#sk-container-id-4 input.sk-toggleable__control:checked~div.sk-toggleable__content {max-height: 200px;max-width: 100%;overflow: auto;}#sk-container-id-4 input.sk-toggleable__control:checked~label.sk-toggleable__label-arrow:before {content: \"▾\";}#sk-container-id-4 div.sk-estimator input.sk-toggleable__control:checked~label.sk-toggleable__label {background-color: #d4ebff;}#sk-container-id-4 div.sk-label input.sk-toggleable__control:checked~label.sk-toggleable__label {background-color: #d4ebff;}#sk-container-id-4 input.sk-hidden--visually {border: 0;clip: rect(1px 1px 1px 1px);clip: rect(1px, 1px, 1px, 1px);height: 1px;margin: -1px;overflow: hidden;padding: 0;position: absolute;width: 1px;}#sk-container-id-4 div.sk-estimator {font-family: monospace;background-color: #f0f8ff;border: 1px dotted black;border-radius: 0.25em;box-sizing: border-box;margin-bottom: 0.5em;}#sk-container-id-4 div.sk-estimator:hover {background-color: #d4ebff;}#sk-container-id-4 div.sk-parallel-item::after {content: \"\";width: 100%;border-bottom: 1px solid gray;flex-grow: 1;}#sk-container-id-4 div.sk-label:hover label.sk-toggleable__label {background-color: #d4ebff;}#sk-container-id-4 div.sk-serial::before {content: \"\";position: absolute;border-left: 1px solid gray;box-sizing: border-box;top: 0;bottom: 0;left: 50%;z-index: 0;}#sk-container-id-4 div.sk-serial {display: flex;flex-direction: column;align-items: center;background-color: white;padding-right: 0.2em;padding-left: 0.2em;position: relative;}#sk-container-id-4 div.sk-item {position: relative;z-index: 1;}#sk-container-id-4 div.sk-parallel {display: flex;align-items: stretch;justify-content: center;background-color: white;position: relative;}#sk-container-id-4 div.sk-item::before, #sk-container-id-4 div.sk-parallel-item::before {content: \"\";position: absolute;border-left: 1px solid gray;box-sizing: border-box;top: 0;bottom: 0;left: 50%;z-index: -1;}#sk-container-id-4 div.sk-parallel-item {display: flex;flex-direction: column;z-index: 1;position: relative;background-color: white;}#sk-container-id-4 div.sk-parallel-item:first-child::after {align-self: flex-end;width: 50%;}#sk-container-id-4 div.sk-parallel-item:last-child::after {align-self: flex-start;width: 50%;}#sk-container-id-4 div.sk-parallel-item:only-child::after {width: 0;}#sk-container-id-4 div.sk-dashed-wrapped {border: 1px dashed gray;margin: 0 0.4em 0.5em 0.4em;box-sizing: border-box;padding-bottom: 0.4em;background-color: white;}#sk-container-id-4 div.sk-label label {font-family: monospace;font-weight: bold;display: inline-block;line-height: 1.2em;}#sk-container-id-4 div.sk-label-container {text-align: center;}#sk-container-id-4 div.sk-container {/* jupyter's `normalize.less` sets `[hidden] { display: none; }` but bootstrap.min.css set `[hidden] { display: none !important; }` so we also need the `!important` here to be able to override the default hidden behavior on the sphinx rendered scikit-learn.org. See: https://github.com/scikit-learn/scikit-learn/issues/21755 */display: inline-block !important;position: relative;}#sk-container-id-4 div.sk-text-repr-fallback {display: none;}</style><div id=\"sk-container-id-4\" class=\"sk-top-container\"><div class=\"sk-text-repr-fallback\"><pre>XGBClassifier(base_score=None, booster=None, callbacks=None,\n",
       "              colsample_bylevel=None, colsample_bynode=None,\n",
       "              colsample_bytree=None, device=None, early_stopping_rounds=None,\n",
       "              enable_categorical=False, eval_metric=None, feature_types=None,\n",
       "              gamma=None, grow_policy=None, importance_type=None,\n",
       "              interaction_constraints=None, learning_rate=None, max_bin=None,\n",
       "              max_cat_threshold=None, max_cat_to_onehot=None,\n",
       "              max_delta_step=None, max_depth=None, max_leaves=None,\n",
       "              min_child_weight=None, missing=nan, monotone_constraints=None,\n",
       "              multi_strategy=None, n_estimators=None, n_jobs=None,\n",
       "              num_parallel_tree=None, random_state=None, ...)</pre><b>In a Jupyter environment, please rerun this cell to show the HTML representation or trust the notebook. <br />On GitHub, the HTML representation is unable to render, please try loading this page with nbviewer.org.</b></div><div class=\"sk-container\" hidden><div class=\"sk-item\"><div class=\"sk-estimator sk-toggleable\"><input class=\"sk-toggleable__control sk-hidden--visually\" id=\"sk-estimator-id-4\" type=\"checkbox\" checked><label for=\"sk-estimator-id-4\" class=\"sk-toggleable__label sk-toggleable__label-arrow\">XGBClassifier</label><div class=\"sk-toggleable__content\"><pre>XGBClassifier(base_score=None, booster=None, callbacks=None,\n",
       "              colsample_bylevel=None, colsample_bynode=None,\n",
       "              colsample_bytree=None, device=None, early_stopping_rounds=None,\n",
       "              enable_categorical=False, eval_metric=None, feature_types=None,\n",
       "              gamma=None, grow_policy=None, importance_type=None,\n",
       "              interaction_constraints=None, learning_rate=None, max_bin=None,\n",
       "              max_cat_threshold=None, max_cat_to_onehot=None,\n",
       "              max_delta_step=None, max_depth=None, max_leaves=None,\n",
       "              min_child_weight=None, missing=nan, monotone_constraints=None,\n",
       "              multi_strategy=None, n_estimators=None, n_jobs=None,\n",
       "              num_parallel_tree=None, random_state=None, ...)</pre></div></div></div></div></div>"
      ],
      "text/plain": [
       "XGBClassifier(base_score=None, booster=None, callbacks=None,\n",
       "              colsample_bylevel=None, colsample_bynode=None,\n",
       "              colsample_bytree=None, device=None, early_stopping_rounds=None,\n",
       "              enable_categorical=False, eval_metric=None, feature_types=None,\n",
       "              gamma=None, grow_policy=None, importance_type=None,\n",
       "              interaction_constraints=None, learning_rate=None, max_bin=None,\n",
       "              max_cat_threshold=None, max_cat_to_onehot=None,\n",
       "              max_delta_step=None, max_depth=None, max_leaves=None,\n",
       "              min_child_weight=None, missing=nan, monotone_constraints=None,\n",
       "              multi_strategy=None, n_estimators=None, n_jobs=None,\n",
       "              num_parallel_tree=None, random_state=None, ...)"
      ]
     },
     "execution_count": 134,
     "metadata": {},
     "output_type": "execute_result"
    }
   ],
   "source": [
    "model = XGBClassifier()\n",
    "\n",
    "model.fit(x_train,y_train)"
   ]
  },
  {
   "cell_type": "code",
   "execution_count": 135,
   "id": "c344d5f5-ec2a-4de1-a7d7-72780783ffc1",
   "metadata": {},
   "outputs": [
    {
     "name": "stdout",
     "output_type": "stream",
     "text": [
      "Accuracy:  86.31840796019901\n",
      "Classification Report:\n",
      "              precision    recall  f1-score   support\n",
      "\n",
      "           0       0.91      0.86      0.88       484\n",
      "           1       0.80      0.87      0.83       320\n",
      "\n",
      "    accuracy                           0.86       804\n",
      "   macro avg       0.86      0.86      0.86       804\n",
      "weighted avg       0.87      0.86      0.86       804\n",
      "\n"
     ]
    }
   ],
   "source": [
    "y_pred = model.predict(x_test)\n",
    "accuracy = accuracy_score(y_test, y_pred)\n",
    "print(\"Accuracy: \",accuracy*100)\n",
    "print(\"Classification Report:\")\n",
    "print(classification_report(y_test, y_pred))"
   ]
  },
  {
   "cell_type": "code",
   "execution_count": 92,
   "id": "1b5cf1bb-e550-45c7-83ff-b2d0b70dd9c9",
   "metadata": {},
   "outputs": [
    {
     "name": "stdout",
     "output_type": "stream",
     "text": [
      "[0]\n",
      "It will not rain tomorrow\n"
     ]
    }
   ],
   "source": []
  },
  {
   "cell_type": "code",
   "execution_count": 136,
   "id": "e7181785-89c8-4f58-a272-425cbbfd6905",
   "metadata": {},
   "outputs": [
    {
     "data": {
      "text/plain": [
       "array([  23.5       ,   47.20833333, 1013.583333  , 2000.        ,\n",
       "          0.        ])"
      ]
     },
     "execution_count": 136,
     "metadata": {},
     "output_type": "execute_result"
    }
   ],
   "source": [
    "np.array(x.iloc[-1])"
   ]
  },
  {
   "cell_type": "code",
   "execution_count": null,
   "id": "8b3639a6-974e-43c8-86ed-3564310a98ee",
   "metadata": {},
   "outputs": [],
   "source": [
    "y.iloc[-1]"
   ]
  },
  {
   "cell_type": "code",
   "execution_count": 101,
   "id": "34c045be-5997-44e2-9c71-2b8aada8434f",
   "metadata": {},
   "outputs": [
    {
     "name": "stdout",
     "output_type": "stream",
     "text": [
      "      tempC   humidity     pressure  light_intensity  RainToday\n",
      "0      22.0  37.125000  1012.875000     65535.000000          0\n",
      "1      22.5  45.000000  1013.625000     65535.000000          0\n",
      "2      22.5  48.625000  1014.833333     65535.000000          0\n",
      "3      22.5  51.875000  1013.625000     65535.000000          0\n",
      "4      22.5  51.208333  1011.750000     65535.000000          0\n",
      "...     ...        ...          ...              ...        ...\n",
      "4013   22.0  71.958333  1012.250000     65535.000000          0\n",
      "4014   22.5  65.291667  1012.958333     64988.883336          1\n",
      "4015   23.5  68.250000  1012.083333     65535.000000          0\n",
      "4016   23.5  57.583333  1013.166667     65535.000000          0\n",
      "4017   23.5  47.208333  1013.583333     65535.000000          0\n",
      "\n",
      "[4018 rows x 5 columns]\n"
     ]
    }
   ],
   "source": []
  },
  {
   "cell_type": "code",
   "execution_count": 137,
   "id": "4a679e4e-8d25-4f9b-a229-5876cbd47f30",
   "metadata": {},
   "outputs": [
    {
     "data": {
      "image/png": "[encoded data removed]",
      "text/plain": [
       "<Figure size 800x600 with 2 Axes>"
      ]
     },
     "metadata": {},
     "output_type": "display_data"
    },
    {
     "data": {
      "image/png": "[encoded data removed]",
      "text/plain": [
       "<Figure size 800x600 with 1 Axes>"
      ]
     },
     "metadata": {},
     "output_type": "display_data"
    }
   ],
   "source": [
    "from sklearn.metrics import confusion_matrix, roc_curve, auc\n",
    "import matplotlib.pyplot as plt\n",
    "\n",
    "# Calculate confusion matrix\n",
    "conf_matrix = confusion_matrix(y_test, y_pred)\n",
    "\n",
    "# Plot confusion matrix\n",
    "plt.figure(figsize=(8, 6))\n",
    "plt.imshow(conf_matrix, interpolation='nearest', cmap=plt.cm.Blues)\n",
    "plt.title('Confusion Matrix')\n",
    "plt.colorbar()\n",
    "tick_marks = [0, 1]\n",
    "plt.xticks(tick_marks, ['0', '1'])\n",
    "plt.yticks(tick_marks, ['0', '1'])\n",
    "plt.xlabel('Predicted Label')\n",
    "plt.ylabel('True Label')\n",
    "for i in range(conf_matrix.shape[0]):\n",
    "    for j in range(conf_matrix.shape[1]):\n",
    "        plt.text(j, i, format(conf_matrix[i, j], 'd'),\n",
    "                 horizontalalignment=\"center\",\n",
    "                 color=\"white\" if conf_matrix[i, j] > conf_matrix.max() / 2. else \"black\")\n",
    "plt.show()\n",
    "\n",
    "# Plot ROC curve\n",
    "fpr, tpr, thresholds = roc_curve(y_test, model.predict_proba(x_test)[:, 1])\n",
    "roc_auc = auc(fpr, tpr)\n",
    "\n",
    "plt.figure(figsize=(8, 6))\n",
    "plt.plot(fpr, tpr, color='darkorange', lw=2, label='ROC curve (area = %0.2f)' % roc_auc)\n",
    "plt.plot([0, 1], [0, 1], color='navy', lw=2, linestyle='--')\n",
    "plt.xlim([0.0, 1.0])\n",
    "plt.ylim([0.0, 1.05])\n",
    "plt.xlabel('False Positive Rate')\n",
    "plt.ylabel('True Positive Rate')\n",
    "plt.title('Receiver Operating Characteristic (ROC) Curve')\n",
    "plt.legend(loc='lower right')\n",
    "plt.show()\n"
   ]
  },
  {
   "cell_type": "code",
   "execution_count": 138,
   "id": "1ea94af1-7519-45ff-97eb-5df95ed38cd1",
   "metadata": {},
   "outputs": [
    {
     "data": {
      "text/plain": [
       "tempC                23.500000\n",
       "humidity             47.208333\n",
       "pressure           1013.583333\n",
       "light_intensity    2000.000000\n",
       "RainToday             0.000000\n",
       "Name: 4017, dtype: float64"
      ]
     },
     "execution_count": 138,
     "metadata": {},
     "output_type": "execute_result"
    }
   ],
   "source": [
    "x.iloc[-1]"
   ]
  },
  {
   "cell_type": "code",
   "execution_count": 146,
   "id": "3bc55caa-f98c-488d-bc0d-6ced0cfeb885",
   "metadata": {},
   "outputs": [
    {
     "name": "stdout",
     "output_type": "stream",
     "text": [
      "[[2.35000000e+01 4.72083333e+01 1.01358333e+03 6.55350000e+04\n",
      "  0.00000000e+00]]\n",
      "[0]\n",
      "It will not rain tomorrow\n"
     ]
    }
   ],
   "source": [
    "import csv\n",
    "\n",
    "# Specify the path to your CSV file\n",
    "csv_file_path = 'Input_SVC'\n",
    "\n",
    "# Initialize an empty list to store the last line\n",
    "last_line = []\n",
    "\n",
    "# Open the CSV file\n",
    "with open(csv_file_path, 'r') as file:\n",
    "    # Create a CSV reader object\n",
    "    csv_reader = csv.reader(file)\n",
    "    \n",
    "    for row in csv_reader:\n",
    "        last_line = row\n",
    "    \n",
    "input_data = [float(val) for val in last_line[1:]]\n",
    "\n",
    "#input format ['humidity', 'pressure', 'RainToday', 'light_intensity', 'tempC']\n",
    "input_reshaped = np.reshape(input_data, (1, -1))\n",
    "print(input_reshaped)\n",
    "outcome = model.predict(input_reshaped)\n",
    "\n",
    "print(outcome)\n",
    "if outcome==0:\n",
    "    print(\"It will not rain tomorrow\")\n",
    "else:\n",
    "    print(\"It will rain tomorrow\")"
   ]
  },
  {
   "cell_type": "code",
   "execution_count": null,
   "id": "026695e2-089c-4eea-9325-e5be068f672b",
   "metadata": {},
   "outputs": [],
   "source": []
  }
 ],
 "metadata": {
  "kernelspec": {
   "display_name": "Python 3 (ipykernel)",
   "language": "python",
   "name": "python3"
  },
  "language_info": {
   "codemirror_mode": {
    "name": "ipython",
    "version": 3
   },
   "file_extension": ".py",
   "mimetype": "text/x-python",
   "name": "python",
   "nbconvert_exporter": "python",
   "pygments_lexer": "ipython3",
   "version": "3.11.5"
  }
 },
 "nbformat": 4,
 "nbformat_minor": 5
}
